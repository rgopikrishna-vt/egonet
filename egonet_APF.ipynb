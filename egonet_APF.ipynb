{
 "cells": [
  {
   "cell_type": "code",
   "execution_count": 1,
   "metadata": {},
   "outputs": [],
   "source": [
    "%matplotlib inline\n",
    "\n",
    "import pandas as pd\n",
    "import numpy as np\n",
    "import matplotlib.pyplot as plt\n",
    "from datetime import datetime\n",
    "from tqdm import tqdm\n",
    "import pickle\n",
    "import networkx as nx"
   ]
  },
  {
   "cell_type": "code",
   "execution_count": 2,
   "metadata": {},
   "outputs": [],
   "source": [
    "file2018 = open('adjmat2018.pickle', 'rb')\n",
    "adjmat2018 = pickle.load(file2018)\n",
    "file2018.close()\n",
    "file2019 = open('adjmat2019.pickle', 'rb')\n",
    "adjmat2019 = pickle.load(file2019)\n",
    "file2019.close()\n",
    "file2020 = open('adjmat2020.pickle', 'rb')\n",
    "adjmat2020 = pickle.load(file2020)\n",
    "file2020.close()"
   ]
  },
  {
   "cell_type": "code",
   "execution_count": 35,
   "metadata": {},
   "outputs": [],
   "source": [
    "\n",
    "file2018 = open('eventlist2018.pickle', 'rb')\n",
    "eventlist2018 = pickle.load(file2018)\n",
    "file2018.close()\n",
    "\n",
    "eventlist2018all = set()\n",
    "for key in eventlist2018:\n",
    "    eventlist2018all = set.union(eventlist2018all,set(eventlist2018[key]))"
   ]
  },
  {
   "cell_type": "code",
   "execution_count": 52,
   "metadata": {},
   "outputs": [
    {
     "name": "stderr",
     "output_type": "stream",
     "text": [
      "100%|██████████| 214/214 [19:05<00:00,  5.35s/it]\n"
     ]
    }
   ],
   "source": [
    "# find adjS for 2018\n",
    "adjS2018 = pd.DataFrame(0, index=np.array(list(eventlist2018all)), columns = np.array(list(eventlist2018all)))\n",
    "for key1 in tqdm(list(eventlist2018all)):\n",
    "    for key2 in list(eventlist2018all):\n",
    "        for key3 in adjmat2018:\n",
    "            if key1 in adjmat2018[key3].columns and key2 in adjmat2018[key3].columns:\n",
    "                adjS2018.at[key1,key2] = adjS2018.at[key1,key2] + adjmat2018[key3].at[key1,key2]"
   ]
  },
  {
   "cell_type": "code",
   "execution_count": 54,
   "metadata": {},
   "outputs": [],
   "source": [
    "adjS2018.to_csv('APFmatrix2018.csv')"
   ]
  },
  {
   "cell_type": "code",
   "execution_count": 56,
   "metadata": {},
   "outputs": [],
   "source": [
    "adjS2018 = adjS2018/len(keylist2018)"
   ]
  },
  {
   "cell_type": "code",
   "execution_count": 57,
   "metadata": {},
   "outputs": [],
   "source": [
    "file2018 = open('dfcompdict2018.pickle', 'rb')\n",
    "dfcompdict2018 = pickle.load(file2018)\n",
    "file2018.close()"
   ]
  },
  {
   "cell_type": "code",
   "execution_count": 3,
   "metadata": {},
   "outputs": [],
   "source": [
    "file2019 = open('eventlist2019.pickle', 'rb')\n",
    "eventlist2019 = pickle.load(file2019)\n",
    "file2019.close()\n",
    "\n",
    "eventlist2019all = set()\n",
    "for key in eventlist2019:\n",
    "    eventlist2019all = set.union(eventlist2019all,set(eventlist2019[key]))"
   ]
  },
  {
   "cell_type": "code",
   "execution_count": 4,
   "metadata": {},
   "outputs": [
    {
     "name": "stderr",
     "output_type": "stream",
     "text": [
      "100%|██████████| 213/213 [20:50<00:00,  5.87s/it]\n"
     ]
    }
   ],
   "source": [
    "# find adjS for 2019\n",
    "adjS2019 = pd.DataFrame(0, index=np.array(list(eventlist2019all)), columns = np.array(list(eventlist2019all)))\n",
    "for key1 in tqdm(list(eventlist2019all)):\n",
    "    for key2 in list(eventlist2019all):\n",
    "        for key3 in adjmat2019:\n",
    "            if key1 in adjmat2019[key3].columns and key2 in adjmat2019[key3].columns:\n",
    "                adjS2019.at[key1,key2] = adjS2019.at[key1,key2] + adjmat2019[key3].at[key1,key2]"
   ]
  },
  {
   "cell_type": "code",
   "execution_count": 5,
   "metadata": {},
   "outputs": [],
   "source": [
    "adjS2019.to_csv('APFmatrix2019.csv')"
   ]
  },
  {
   "cell_type": "code",
   "execution_count": 6,
   "metadata": {},
   "outputs": [],
   "source": [
    "file2020 = open('eventlist2020.pickle', 'rb')\n",
    "eventlist2020 = pickle.load(file2020)\n",
    "file2020.close()\n",
    "\n",
    "eventlist2020all = set()\n",
    "for key in eventlist2020:\n",
    "    eventlist2020all = set.union(eventlist2020all,set(eventlist2020[key]))"
   ]
  },
  {
   "cell_type": "code",
   "execution_count": 7,
   "metadata": {},
   "outputs": [
    {
     "name": "stderr",
     "output_type": "stream",
     "text": [
      "100%|██████████| 215/215 [22:01<00:00,  6.15s/it]\n"
     ]
    }
   ],
   "source": [
    "# find adjS for 2020\n",
    "adjS2020 = pd.DataFrame(0, index=np.array(list(eventlist2020all)), columns = np.array(list(eventlist2020all)))\n",
    "for key1 in tqdm(list(eventlist2020all)):\n",
    "    for key2 in list(eventlist2020all):\n",
    "        for key3 in adjmat2020:\n",
    "            if key1 in adjmat2020[key3].columns and key2 in adjmat2020[key3].columns:\n",
    "                adjS2020.at[key1,key2] = adjS2020.at[key1,key2] + adjmat2020[key3].at[key1,key2]"
   ]
  },
  {
   "cell_type": "code",
   "execution_count": 8,
   "metadata": {},
   "outputs": [],
   "source": [
    "adjS2020.to_csv('APFmatrix2020.csv')"
   ]
  },
  {
   "cell_type": "code",
   "execution_count": null,
   "metadata": {},
   "outputs": [],
   "source": []
  }
 ],
 "metadata": {
  "kernelspec": {
   "display_name": "Python 3",
   "language": "python",
   "name": "python3"
  },
  "language_info": {
   "codemirror_mode": {
    "name": "ipython",
    "version": 3
   },
   "file_extension": ".py",
   "mimetype": "text/x-python",
   "name": "python",
   "nbconvert_exporter": "python",
   "pygments_lexer": "ipython3",
   "version": "3.6.10"
  }
 },
 "nbformat": 4,
 "nbformat_minor": 4
}
