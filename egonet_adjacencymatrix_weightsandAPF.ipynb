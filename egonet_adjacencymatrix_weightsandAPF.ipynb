{
 "cells": [
  {
   "cell_type": "code",
   "execution_count": 1,
   "metadata": {},
   "outputs": [],
   "source": [
    "%matplotlib inline\n",
    "\n",
    "import pandas as pd\n",
    "import numpy as np\n",
    "import matplotlib.pyplot as plt\n",
    "from datetime import datetime\n",
    "from tqdm import tqdm\n",
    "import pickle\n",
    "import networkx as nx"
   ]
  },
  {
   "cell_type": "code",
   "execution_count": 2,
   "metadata": {},
   "outputs": [],
   "source": [
    "file2018 = open('dfcompdict2018.pickle', 'rb')\n",
    "dfcompdict2018 = pickle.load(file2018)\n",
    "file2018.close()\n",
    "file2019 = open('dfcompdict2019.pickle', 'rb')\n",
    "dfcompdict2019 = pickle.load(file2019)\n",
    "file2019.close()\n",
    "file2020 = open('dfcompdict2020.pickle', 'rb')\n",
    "dfcompdict2020 = pickle.load(file2020)\n",
    "file2020.close()"
   ]
  },
  {
   "cell_type": "code",
   "execution_count": 23,
   "metadata": {},
   "outputs": [
    {
     "name": "stderr",
     "output_type": "stream",
     "text": [
      "100%|██████████| 18627/18627 [00:03<00:00, 5631.68it/s]\n"
     ]
    }
   ],
   "source": [
    "# 2018 edges from sequence\n",
    "edgedict2018 = {}\n",
    "for key in tqdm(dfcompdict2018):\n",
    "    templist = []\n",
    "    for i in range(len(dfcompdict2018[key])):\n",
    "        if i == len(dfcompdict2018[key])-1:\n",
    "            continue\n",
    "        else:\n",
    "            templist.append([dfcompdict2018[key][i],dfcompdict2018[key][i+1]])\n",
    "    edgedict2018[key] = templist"
   ]
  },
  {
   "cell_type": "code",
   "execution_count": null,
   "metadata": {},
   "outputs": [],
   "source": []
  },
  {
   "cell_type": "code",
   "execution_count": null,
   "metadata": {},
   "outputs": [],
   "source": []
  },
  {
   "cell_type": "code",
   "execution_count": 24,
   "metadata": {},
   "outputs": [],
   "source": [
    "listcompanyids2018 = []\n",
    "for key in edgedict2018:\n",
    "    listcompanyids2018.append(key)\n",
    "for key in listcompanyids2018:\n",
    "    if not edgedict2018[key]:\n",
    "        edgedict2018.pop(key)"
   ]
  },
  {
   "cell_type": "code",
   "execution_count": 6,
   "metadata": {},
   "outputs": [
    {
     "name": "stderr",
     "output_type": "stream",
     "text": [
      "100%|██████████| 19988/19988 [00:00<00:00, 21436.02it/s]\n"
     ]
    }
   ],
   "source": [
    "# 2019 edges from sequence\n",
    "edgedict2019 = {}\n",
    "for key in tqdm(dfcompdict2019):\n",
    "    templist = []\n",
    "    for i in range(len(dfcompdict2019[key])):\n",
    "        if i == len(dfcompdict2019[key])-1:\n",
    "            continue\n",
    "        else:\n",
    "            templist.append([dfcompdict2019[key][i],dfcompdict2019[key][i+1]])\n",
    "    edgedict2019[key] = templist"
   ]
  },
  {
   "cell_type": "code",
   "execution_count": 7,
   "metadata": {},
   "outputs": [],
   "source": [
    "listcompanyids2019 = []\n",
    "for key in edgedict2019:\n",
    "    listcompanyids2019.append(key)\n",
    "for key in listcompanyids2019:\n",
    "    if not edgedict2019[key]:\n",
    "        edgedict2019.pop(key)"
   ]
  },
  {
   "cell_type": "code",
   "execution_count": 8,
   "metadata": {},
   "outputs": [
    {
     "name": "stderr",
     "output_type": "stream",
     "text": [
      "100%|██████████| 21241/21241 [00:00<00:00, 24401.60it/s]\n"
     ]
    }
   ],
   "source": [
    "# 2020 edges from sequence\n",
    "edgedict2020 = {}\n",
    "for key in tqdm(dfcompdict2020):\n",
    "    templist = []\n",
    "    for i in range(len(dfcompdict2020[key])):\n",
    "        if i == len(dfcompdict2020[key])-1:\n",
    "            continue\n",
    "        else:\n",
    "            templist.append([dfcompdict2020[key][i],dfcompdict2020[key][i+1]])\n",
    "    edgedict2020[key] = templist"
   ]
  },
  {
   "cell_type": "code",
   "execution_count": 9,
   "metadata": {},
   "outputs": [],
   "source": [
    "listcompanyids2020 = []\n",
    "for key in edgedict2020:\n",
    "    listcompanyids2020.append(key)\n",
    "for key in listcompanyids2020:\n",
    "    if not edgedict2020[key]:\n",
    "        edgedict2020.pop(key)"
   ]
  },
  {
   "cell_type": "code",
   "execution_count": 26,
   "metadata": {},
   "outputs": [
    {
     "name": "stderr",
     "output_type": "stream",
     "text": [
      "100%|██████████| 15112/15112 [00:54<00:00, 277.09it/s] \n"
     ]
    }
   ],
   "source": [
    "adjmatweight2018 = {}\n",
    "eventlist2018 = {}\n",
    "for key in tqdm(edgedict2018):\n",
    "    eventlist2018[key] = list(set(dfcompdict2018[key]))\n",
    "    tempadjdf = pd.DataFrame(0, index=eventlist2018[key], columns=eventlist2018[key])\n",
    "    for event1 in eventlist2018[key]:\n",
    "        for event2 in eventlist2018[key]:\n",
    "            templist = [event1, event2]\n",
    "            if templist in edgedict2018[key]:\n",
    "                tempadjdf.at[event1,event2] = edgedict2018[key].count(templist)\n",
    "    adjmatweight2018[key] = tempadjdf"
   ]
  },
  {
   "cell_type": "code",
   "execution_count": 28,
   "metadata": {},
   "outputs": [],
   "source": [
    "with open('adjmatweight2018.pickle', 'wb') as filehandle:\n",
    "    pickle.dump(adjmatweight2018, filehandle)"
   ]
  },
  {
   "cell_type": "code",
   "execution_count": 30,
   "metadata": {},
   "outputs": [
    {
     "name": "stderr",
     "output_type": "stream",
     "text": [
      "100%|██████████| 16139/16139 [00:42<00:00, 379.78it/s] \n"
     ]
    }
   ],
   "source": [
    "adjmatweight2019 = {}\n",
    "eventlist2019 = {}\n",
    "\n",
    "for key in tqdm(edgedict2019):\n",
    "    eventlist2019[key] = list(set(dfcompdict2019[key]))\n",
    "    tempadjdf = pd.DataFrame(0, index=eventlist2019[key], columns=eventlist2019[key])\n",
    "    for event1 in eventlist2019[key]:\n",
    "        for event2 in eventlist2019[key]:\n",
    "            templist = [event1, event2]\n",
    "            if templist in edgedict2019[key]:\n",
    "                tempadjdf.at[event1,event2] = edgedict2019[key].count(templist)\n",
    "    adjmatweight2019[key] = tempadjdf"
   ]
  },
  {
   "cell_type": "code",
   "execution_count": 31,
   "metadata": {},
   "outputs": [],
   "source": [
    "with open('adjmatweight2019.pickle', 'wb') as filehandle:\n",
    "    pickle.dump(adjmatweight2019, filehandle)"
   ]
  },
  {
   "cell_type": "code",
   "execution_count": 32,
   "metadata": {},
   "outputs": [
    {
     "name": "stderr",
     "output_type": "stream",
     "text": [
      "100%|██████████| 16915/16915 [00:44<00:00, 384.02it/s] \n"
     ]
    }
   ],
   "source": [
    "adjmatweight2020 = {}\n",
    "eventlist2020 = {}\n",
    "\n",
    "for key in tqdm(edgedict2020):\n",
    "    eventlist2020[key] = list(set(dfcompdict2020[key]))\n",
    "    tempadjdf = pd.DataFrame(0, index=eventlist2020[key], columns=eventlist2020[key])\n",
    "    for event1 in eventlist2020[key]:\n",
    "        for event2 in eventlist2020[key]:\n",
    "            templist = [event1, event2]\n",
    "            if templist in edgedict2020[key]:\n",
    "                tempadjdf.at[event1,event2] = edgedict2020[key].count(templist)\n",
    "    adjmatweight2020[key] = tempadjdf"
   ]
  },
  {
   "cell_type": "code",
   "execution_count": 33,
   "metadata": {},
   "outputs": [],
   "source": [
    "with open('adjmatweight2020.pickle', 'wb') as filehandle:\n",
    "    pickle.dump(adjmatweight2020, filehandle)"
   ]
  },
  {
   "cell_type": "code",
   "execution_count": 34,
   "metadata": {},
   "outputs": [],
   "source": [
    "eventlist2018all = set()\n",
    "for key in eventlist2018:\n",
    "    eventlist2018all = set.union(eventlist2018all,set(eventlist2018[key]))\n",
    "eventlist2019all = set()\n",
    "for key in eventlist2019:\n",
    "    eventlist2019all = set.union(eventlist2019all,set(eventlist2019[key]))\n",
    "eventlist2020all = set()\n",
    "for key in eventlist2020:\n",
    "    eventlist2020all = set.union(eventlist2020all,set(eventlist2020[key]))"
   ]
  },
  {
   "cell_type": "code",
   "execution_count": 35,
   "metadata": {},
   "outputs": [
    {
     "name": "stderr",
     "output_type": "stream",
     "text": [
      "100%|██████████| 214/214 [16:07<00:00,  4.52s/it]\n"
     ]
    }
   ],
   "source": [
    "# find adjS for 2018\n",
    "adjweightS2018 = pd.DataFrame(0, index=np.array(list(eventlist2018all)), columns = np.array(list(eventlist2018all)))\n",
    "for key1 in tqdm(list(eventlist2018all)):\n",
    "    for key2 in list(eventlist2018all):\n",
    "        for key3 in adjmatweight2018:\n",
    "            if key1 in adjmatweight2018[key3].columns and key2 in adjmatweight2018[key3].columns:\n",
    "                adjweightS2018.at[key1,key2] = adjweightS2018.at[key1,key2] + adjmatweight2018[key3].at[key1,key2]"
   ]
  },
  {
   "cell_type": "code",
   "execution_count": 36,
   "metadata": {},
   "outputs": [],
   "source": [
    "adjweightS2018.to_csv('APF_adjweightS2018.csv')"
   ]
  },
  {
   "cell_type": "code",
   "execution_count": 37,
   "metadata": {},
   "outputs": [
    {
     "name": "stderr",
     "output_type": "stream",
     "text": [
      "100%|██████████| 213/213 [18:10<00:00,  5.12s/it]\n"
     ]
    }
   ],
   "source": [
    "# find adjS for 2019\n",
    "adjweightS2019 = pd.DataFrame(0, index=np.array(list(eventlist2019all)), columns = np.array(list(eventlist2019all)))\n",
    "for key1 in tqdm(list(eventlist2019all)):\n",
    "    for key2 in list(eventlist2019all):\n",
    "        for key3 in adjmatweight2019:\n",
    "            if key1 in adjmatweight2019[key3].columns and key2 in adjmatweight2019[key3].columns:\n",
    "                adjweightS2019.at[key1,key2] = adjweightS2019.at[key1,key2] + adjmatweight2019[key3].at[key1,key2]"
   ]
  },
  {
   "cell_type": "code",
   "execution_count": 38,
   "metadata": {},
   "outputs": [],
   "source": [
    "adjweightS2019.to_csv('APF_adjweightS2019.csv')"
   ]
  },
  {
   "cell_type": "code",
   "execution_count": 39,
   "metadata": {},
   "outputs": [
    {
     "name": "stderr",
     "output_type": "stream",
     "text": [
      "100%|██████████| 215/215 [19:48<00:00,  5.53s/it]\n"
     ]
    }
   ],
   "source": [
    "# find adjS for 2020\n",
    "adjweightS2020 = pd.DataFrame(0, index=np.array(list(eventlist2020all)), columns = np.array(list(eventlist2020all)))\n",
    "for key1 in tqdm(list(eventlist2020all)):\n",
    "    for key2 in list(eventlist2020all):\n",
    "        for key3 in adjmatweight2020:\n",
    "            if key1 in adjmatweight2020[key3].columns and key2 in adjmatweight2020[key3].columns:\n",
    "                adjweightS2020.at[key1,key2] = adjweightS2020.at[key1,key2] + adjmatweight2020[key3].at[key1,key2]"
   ]
  },
  {
   "cell_type": "code",
   "execution_count": 40,
   "metadata": {},
   "outputs": [],
   "source": [
    "adjweightS2020.to_csv('APF_adjweightS2020.csv')"
   ]
  },
  {
   "cell_type": "code",
   "execution_count": null,
   "metadata": {},
   "outputs": [],
   "source": []
  }
 ],
 "metadata": {
  "kernelspec": {
   "display_name": "Python 3",
   "language": "python",
   "name": "python3"
  },
  "language_info": {
   "codemirror_mode": {
    "name": "ipython",
    "version": 3
   },
   "file_extension": ".py",
   "mimetype": "text/x-python",
   "name": "python",
   "nbconvert_exporter": "python",
   "pygments_lexer": "ipython3",
   "version": "3.6.10"
  }
 },
 "nbformat": 4,
 "nbformat_minor": 4
}
