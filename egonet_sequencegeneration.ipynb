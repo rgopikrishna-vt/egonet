{
 "cells": [
  {
   "cell_type": "code",
   "execution_count": 162,
   "metadata": {},
   "outputs": [],
   "source": [
    "%matplotlib inline\n",
    "\n",
    "import pandas as pd\n",
    "import numpy as np\n",
    "import matplotlib.pyplot as plt\n",
    "from datetime import datetime\n",
    "from tqdm import tqdm"
   ]
  },
  {
   "cell_type": "code",
   "execution_count": 331,
   "metadata": {},
   "outputs": [],
   "source": [
    "import pickle"
   ]
  },
  {
   "cell_type": "code",
   "execution_count": 276,
   "metadata": {},
   "outputs": [],
   "source": [
    "df_2018_03 = pd.read_csv('../ravenpack/RavenPackAnalytics_AllEntities_1.0_2018/2018-03.csv', low_memory=False)\n",
    "df_2019_03 = pd.read_csv('../ravenpack/RavenPackAnalytics_AllEntities_1.0_2019/2019-03.csv', low_memory=False)"
   ]
  },
  {
   "cell_type": "code",
   "execution_count": 277,
   "metadata": {},
   "outputs": [],
   "source": [
    "df_2020_0103 = pd.read_csv('2020_JanMar.csv', low_memory=False)"
   ]
  },
  {
   "cell_type": "code",
   "execution_count": 278,
   "metadata": {},
   "outputs": [],
   "source": [
    "df_2020_0103['TIMESTAMP_UTC'] = pd.to_datetime(df_2020_0103['TIMESTAMP_UTC'])"
   ]
  },
  {
   "cell_type": "code",
   "execution_count": 279,
   "metadata": {},
   "outputs": [],
   "source": [
    "df_2020_03 = df_2020_0103[df_2020_0103.TIMESTAMP_UTC>'2020-03-01']"
   ]
  },
  {
   "cell_type": "code",
   "execution_count": 280,
   "metadata": {},
   "outputs": [],
   "source": [
    "df_2018_03['TIMESTAMP_UTC'] = pd.to_datetime(df_2018_03['TIMESTAMP_UTC'])"
   ]
  },
  {
   "cell_type": "code",
   "execution_count": 281,
   "metadata": {},
   "outputs": [],
   "source": [
    "df_2019_03['TIMESTAMP_UTC'] = pd.to_datetime(df_2019_03['TIMESTAMP_UTC'])"
   ]
  },
  {
   "cell_type": "code",
   "execution_count": 282,
   "metadata": {},
   "outputs": [],
   "source": [
    "# df_2018_03[df_2018_03.TIMESTAMP_UTC.dt.strftime('%Y-%m-%d')=='2018-03-15']"
   ]
  },
  {
   "cell_type": "code",
   "execution_count": 283,
   "metadata": {},
   "outputs": [],
   "source": [
    "df_2018_03 = df_2018_03[df_2018_03.ENTITY_TYPE.isin(['COMP'])]"
   ]
  },
  {
   "cell_type": "code",
   "execution_count": 284,
   "metadata": {},
   "outputs": [],
   "source": [
    "df_2019_03 = df_2019_03[df_2019_03.ENTITY_TYPE.isin(['COMP'])]"
   ]
  },
  {
   "cell_type": "code",
   "execution_count": 285,
   "metadata": {},
   "outputs": [],
   "source": [
    "df_2020_03 = df_2020_03[df_2020_03.ENTITY_TYPE.isin(['COMP'])]"
   ]
  },
  {
   "cell_type": "code",
   "execution_count": 286,
   "metadata": {},
   "outputs": [],
   "source": [
    "df_2018_03 = df_2018_03[df_2018_03.TOPIC=='business']\n",
    "df_2019_03 = df_2019_03[df_2019_03.TOPIC=='business']\n",
    "df_2020_03 = df_2020_03[df_2020_03.TOPIC=='business']"
   ]
  },
  {
   "cell_type": "code",
   "execution_count": 287,
   "metadata": {},
   "outputs": [],
   "source": [
    "df_2018_03.dropna(subset=['TYPE'], inplace=True)\n",
    "df_2019_03.dropna(subset=['TYPE'], inplace=True)\n",
    "df_2020_03.dropna(subset=['TYPE'], inplace=True)"
   ]
  },
  {
   "cell_type": "code",
   "execution_count": 301,
   "metadata": {},
   "outputs": [],
   "source": [
    "df_2018_03 = df_2018_03[['TIMESTAMP_UTC', 'RP_STORY_ID', 'RP_ENTITY_ID', 'ENTITY_TYPE',\n",
    "       'ENTITY_NAME', 'EVENT_SIMILARITY_KEY',\n",
    "       'TOPIC', 'GROUP', 'TYPE', 'SUB_TYPE', 'RELATED_ENTITY', 'CATEGORY',\n",
    "       'EVENT_TEXT', 'NEWS_TYPE', 'RP_SOURCE_ID', 'SOURCE_NAME',\n",
    "       \n",
    "       'RP_STORY_EVENT_INDEX', 'RP_STORY_EVENT_COUNT', \n",
    "       'PROVIDER_ID', 'PROVIDER_STORY_ID', 'HEADLINE']]"
   ]
  },
  {
   "cell_type": "code",
   "execution_count": 303,
   "metadata": {},
   "outputs": [],
   "source": [
    "df_2019_03 = df_2019_03[['TIMESTAMP_UTC', 'RP_STORY_ID', 'RP_ENTITY_ID', 'ENTITY_TYPE',\n",
    "       'ENTITY_NAME', 'EVENT_SIMILARITY_KEY',\n",
    "       'TOPIC', 'GROUP', 'TYPE', 'SUB_TYPE', 'RELATED_ENTITY', 'CATEGORY',\n",
    "       'EVENT_TEXT', 'NEWS_TYPE', 'RP_SOURCE_ID', 'SOURCE_NAME',\n",
    "       \n",
    "       'RP_STORY_EVENT_INDEX', 'RP_STORY_EVENT_COUNT', \n",
    "       'PROVIDER_ID', 'PROVIDER_STORY_ID', 'HEADLINE']]"
   ]
  },
  {
   "cell_type": "code",
   "execution_count": 304,
   "metadata": {},
   "outputs": [],
   "source": [
    "df_2020_03 = df_2020_03[['TIMESTAMP_UTC', 'RP_STORY_ID', 'RP_ENTITY_ID', 'ENTITY_TYPE',\n",
    "       'ENTITY_NAME', 'EVENT_SIMILARITY_KEY',\n",
    "       'TOPIC', 'GROUP', 'TYPE', 'SUB_TYPE', 'RELATED_ENTITY', 'CATEGORY',\n",
    "       'EVENT_TEXT', 'NEWS_TYPE', 'RP_SOURCE_ID', 'SOURCE_NAME',\n",
    "       \n",
    "       'RP_STORY_EVENT_INDEX', 'RP_STORY_EVENT_COUNT', \n",
    "       'PROVIDER_ID', 'PROVIDER_STORY_ID', 'HEADLINE']]"
   ]
  },
  {
   "cell_type": "code",
   "execution_count": 305,
   "metadata": {},
   "outputs": [],
   "source": [
    "df_2018_03.to_csv('2018marchfilteredIcompIbusinessTyesTYPE.csv')"
   ]
  },
  {
   "cell_type": "code",
   "execution_count": 306,
   "metadata": {},
   "outputs": [],
   "source": [
    "df_2019_03.to_csv('2019marchfilteredIcompIbusinessTyesTYPE.csv')"
   ]
  },
  {
   "cell_type": "code",
   "execution_count": 307,
   "metadata": {},
   "outputs": [],
   "source": [
    "df_2020_03.to_csv('2020marchfilteredIcompIbusinessTyesTYPE.csv')"
   ]
  },
  {
   "cell_type": "code",
   "execution_count": null,
   "metadata": {},
   "outputs": [],
   "source": []
  },
  {
   "cell_type": "code",
   "execution_count": null,
   "metadata": {},
   "outputs": [],
   "source": []
  },
  {
   "cell_type": "code",
   "execution_count": 326,
   "metadata": {},
   "outputs": [],
   "source": [
    "# create event sequences\n",
    "def createsequence(companyid,df):\n",
    "    companydf = df[df.RP_ENTITY_ID==companyid]\n",
    "    \n",
    "    keynodf = companydf[companydf.EVENT_SIMILARITY_KEY.isna()]\n",
    "    keyyesdf = companydf[companydf.EVENT_SIMILARITY_KEY.notna()]\n",
    "    keyyesdf.drop_duplicates(subset=['EVENT_SIMILARITY_KEY'], keep=\"first\", inplace=True)\n",
    "    requireddf = pd.concat([keynodf,keyyesdf])\n",
    "    requireddf.sort_values(by=['TIMESTAMP_UTC'],ascending=True, inplace=True)\n",
    "    \n",
    "    sequence = []\n",
    "    sequence = list(requireddf.TYPE)\n",
    "    \n",
    "    return sequence"
   ]
  },
  {
   "cell_type": "code",
   "execution_count": 327,
   "metadata": {},
   "outputs": [],
   "source": [
    "dfbigdict = {}\n",
    "# companyids = []\n",
    "# companyids = list(df_2018_03.RP_ENTITY_ID.unique())\n",
    "# dfcompdict = {}"
   ]
  },
  {
   "cell_type": "code",
   "execution_count": 328,
   "metadata": {},
   "outputs": [],
   "source": [
    "# for company in tqdm(companyids):\n",
    "#     dfcompdict[company] = createsequence(company,df_2018_03)"
   ]
  },
  {
   "cell_type": "code",
   "execution_count": 330,
   "metadata": {},
   "outputs": [
    {
     "name": "stderr",
     "output_type": "stream",
     "text": [
      "100%|██████████| 18627/18627 [51:08<00:00,  6.07it/s]\n"
     ]
    },
    {
     "ename": "NameError",
     "evalue": "name 'pickle' is not defined",
     "output_type": "error",
     "traceback": [
      "\u001b[0;31m----------------------------------------\u001b[0m",
      "\u001b[0;31mNameError\u001b[0mTraceback (most recent call last)",
      "\u001b[0;32m<ipython-input-330-521746046a79>\u001b[0m in \u001b[0;36m<module>\u001b[0;34m\u001b[0m\n\u001b[1;32m      6\u001b[0m \u001b[0mdfbigdict\u001b[0m\u001b[0;34m[\u001b[0m\u001b[0;34m'2018'\u001b[0m\u001b[0;34m]\u001b[0m \u001b[0;34m=\u001b[0m \u001b[0mdfcompdict2018\u001b[0m\u001b[0;34m\u001b[0m\u001b[0;34m\u001b[0m\u001b[0m\n\u001b[1;32m      7\u001b[0m \u001b[0;32mwith\u001b[0m \u001b[0mopen\u001b[0m\u001b[0;34m(\u001b[0m\u001b[0;34m'dfcompdict2018.pickle'\u001b[0m\u001b[0;34m,\u001b[0m \u001b[0;34m'wb'\u001b[0m\u001b[0;34m)\u001b[0m \u001b[0;32mas\u001b[0m \u001b[0mfilehandle\u001b[0m\u001b[0;34m:\u001b[0m\u001b[0;34m\u001b[0m\u001b[0;34m\u001b[0m\u001b[0m\n\u001b[0;32m----> 8\u001b[0;31m     \u001b[0mpickle\u001b[0m\u001b[0;34m.\u001b[0m\u001b[0mdump\u001b[0m\u001b[0;34m(\u001b[0m\u001b[0mdfcompdict2018\u001b[0m\u001b[0;34m,\u001b[0m \u001b[0mfilehandle\u001b[0m\u001b[0;34m)\u001b[0m\u001b[0;34m\u001b[0m\u001b[0;34m\u001b[0m\u001b[0m\n\u001b[0m",
      "\u001b[0;31mNameError\u001b[0m: name 'pickle' is not defined"
     ]
    }
   ],
   "source": [
    "companyids2018 = []\n",
    "companyids2018 = list(df_2018_03.RP_ENTITY_ID.unique())\n",
    "dfcompdict2018 = {}\n",
    "for company in tqdm(companyids2018):\n",
    "    dfcompdict2018[company] = createsequence(company,df_2018_03)\n",
    "dfbigdict['2018'] = dfcompdict2018\n"
   ]
  },
  {
   "cell_type": "code",
   "execution_count": 336,
   "metadata": {},
   "outputs": [],
   "source": [
    "pickle.dump(dfcompdict2018, open( \"save2018.pickle\", \"wb\" ) )"
   ]
  },
  {
   "cell_type": "code",
   "execution_count": 337,
   "metadata": {},
   "outputs": [
    {
     "name": "stderr",
     "output_type": "stream",
     "text": [
      "100%|██████████| 19988/19988 [27:11<00:00, 12.25it/s]\n"
     ]
    }
   ],
   "source": [
    "companyids2019 = []\n",
    "dfcompdict2019 = {}\n",
    "companyids2019 = list(df_2019_03.RP_ENTITY_ID.unique())\n",
    "for company in tqdm(companyids2019):\n",
    "    dfcompdict2019[company] = createsequence(company,df_2019_03)\n",
    "dfbigdict['2019'] = dfcompdict2019\n",
    "with open('dfcompdict2019.pickle', 'wb') as filehandle:\n",
    "    pickle.dump(dfcompdict2019, filehandle)"
   ]
  },
  {
   "cell_type": "code",
   "execution_count": 338,
   "metadata": {},
   "outputs": [
    {
     "name": "stderr",
     "output_type": "stream",
     "text": [
      "100%|██████████| 21241/21241 [36:51<00:00,  9.60it/s]\n"
     ]
    }
   ],
   "source": [
    "companyids2020 = []\n",
    "dfcompdict2020 = {}\n",
    "companyids2020 = list(df_2020_03.RP_ENTITY_ID.unique())\n",
    "for company in tqdm(companyids2020):\n",
    "    dfcompdict2020[company] = createsequence(company,df_2020_03)\n",
    "dfbigdict['2020'] = dfcompdict2020\n",
    "with open('dfcompdict2020.pickle', 'wb') as filehandle:\n",
    "    pickle.dump(dfcompdict2020, filehandle)"
   ]
  },
  {
   "cell_type": "code",
   "execution_count": null,
   "metadata": {},
   "outputs": [],
   "source": []
  },
  {
   "cell_type": "code",
   "execution_count": 341,
   "metadata": {},
   "outputs": [
    {
     "name": "stderr",
     "output_type": "stream",
     "text": [
      "100%|██████████| 18627/18627 [00:04<00:00, 4521.96it/s]\n"
     ]
    }
   ],
   "source": [
    "# 2018 edges from sequence\n",
    "edgedict2018 = {}\n",
    "for key in tqdm(dfcompdict2018):\n",
    "    templist = []\n",
    "    for i in range(len(dfcompdict2018[key])):\n",
    "        if i == len(dfcompdict2018[key])-1:\n",
    "            continue\n",
    "        else:\n",
    "            templist.append([dfcompdict2018[key][i],dfcompdict2018[key][i+1]])\n",
    "    edgedict2018[key] = templist\n",
    "\n",
    "for key in edgedict2018:\n",
    "    if not edgedict2018[key]:\n",
    "        edgedict2018.pop(key)"
   ]
  },
  {
   "cell_type": "code",
   "execution_count": 358,
   "metadata": {},
   "outputs": [
    {
     "ename": "KeyError",
     "evalue": "'AC097E'",
     "output_type": "error",
     "traceback": [
      "\u001b[0;31m----------------------------------------\u001b[0m",
      "\u001b[0;31mKeyError\u001b[0mTraceback (most recent call last)",
      "\u001b[0;32m<ipython-input-358-1e9bf97d9101>\u001b[0m in \u001b[0;36m<module>\u001b[0;34m\u001b[0m\n\u001b[1;32m      1\u001b[0m \u001b[0;32mfor\u001b[0m \u001b[0mkey\u001b[0m \u001b[0;32min\u001b[0m \u001b[0mcompanyids2018\u001b[0m\u001b[0;34m:\u001b[0m\u001b[0;34m\u001b[0m\u001b[0;34m\u001b[0m\u001b[0m\n\u001b[0;32m----> 2\u001b[0;31m     \u001b[0;32mif\u001b[0m \u001b[0;32mnot\u001b[0m \u001b[0medgedict2018\u001b[0m\u001b[0;34m[\u001b[0m\u001b[0mkey\u001b[0m\u001b[0;34m]\u001b[0m\u001b[0;34m:\u001b[0m\u001b[0;34m\u001b[0m\u001b[0;34m\u001b[0m\u001b[0m\n\u001b[0m\u001b[1;32m      3\u001b[0m         \u001b[0medgedict2018\u001b[0m\u001b[0;34m.\u001b[0m\u001b[0mpop\u001b[0m\u001b[0;34m(\u001b[0m\u001b[0mkey\u001b[0m\u001b[0;34m)\u001b[0m\u001b[0;34m\u001b[0m\u001b[0;34m\u001b[0m\u001b[0m\n",
      "\u001b[0;31mKeyError\u001b[0m: 'AC097E'"
     ]
    }
   ],
   "source": [
    "for key in companyids2018:\n",
    "    if not edgedict2018[key]:\n",
    "        edgedict2018.pop(key)"
   ]
  },
  {
   "cell_type": "code",
   "execution_count": null,
   "metadata": {},
   "outputs": [],
   "source": [
    "#adjacency matrix for one company in one year march\n",
    "# sequence A T G C C G T A G C T A T G C A\n",
    "list = []\n",
    "sequencelist = ['A','T','G','C','A','G','T','A','C']\n",
    "for i in range(len(sequencelist)):\n",
    "    if i == len(sequencelist)-1:\n",
    "        continue\n",
    "    else:\n",
    "        list.append(sequencelist[i],sequencelist[i+1])"
   ]
  }
 ],
 "metadata": {
  "kernelspec": {
   "display_name": "Python 3",
   "language": "python",
   "name": "python3"
  },
  "language_info": {
   "codemirror_mode": {
    "name": "ipython",
    "version": 3
   },
   "file_extension": ".py",
   "mimetype": "text/x-python",
   "name": "python",
   "nbconvert_exporter": "python",
   "pygments_lexer": "ipython3",
   "version": "3.6.10"
  }
 },
 "nbformat": 4,
 "nbformat_minor": 4
}
