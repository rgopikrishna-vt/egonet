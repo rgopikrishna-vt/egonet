{
 "cells": [
  {
   "cell_type": "code",
   "execution_count": 1,
   "metadata": {},
   "outputs": [],
   "source": [
    "%matplotlib inline\n",
    "\n",
    "import pandas as pd\n",
    "import numpy as np\n",
    "import matplotlib.pyplot as plt\n",
    "from datetime import datetime\n",
    "from tqdm import tqdm\n",
    "import pickle\n",
    "import networkx as nx"
   ]
  },
  {
   "cell_type": "code",
   "execution_count": 3,
   "metadata": {},
   "outputs": [],
   "source": [
    "file2018 = open('dfcompdict2018.pickle', 'rb')\n",
    "dfcompdict2018 = pickle.load(file2018)\n",
    "file2018.close()"
   ]
  },
  {
   "cell_type": "code",
   "execution_count": 5,
   "metadata": {},
   "outputs": [],
   "source": [
    "file2019 = open('dfcompdict2019.pickle', 'rb')\n",
    "dfcompdict2019 = pickle.load(file2019)\n",
    "file2019.close()"
   ]
  },
  {
   "cell_type": "code",
   "execution_count": 6,
   "metadata": {},
   "outputs": [],
   "source": [
    "file2020 = open('dfcompdict2020.pickle', 'rb')\n",
    "dfcompdict2020 = pickle.load(file2020)\n",
    "file2020.close()"
   ]
  },
  {
   "cell_type": "code",
   "execution_count": 7,
   "metadata": {},
   "outputs": [
    {
     "name": "stderr",
     "output_type": "stream",
     "text": [
      "100%|██████████| 18627/18627 [00:02<00:00, 9308.37it/s]\n"
     ]
    }
   ],
   "source": [
    "# 2018 edges from sequence\n",
    "edgedict2018 = {}\n",
    "for key in tqdm(dfcompdict2018):\n",
    "    templist = []\n",
    "    for i in range(len(dfcompdict2018[key])):\n",
    "        if i == len(dfcompdict2018[key])-1:\n",
    "            continue\n",
    "        else:\n",
    "            templist.append([dfcompdict2018[key][i],dfcompdict2018[key][i+1]])\n",
    "    edgedict2018[key] = templist"
   ]
  },
  {
   "cell_type": "code",
   "execution_count": 16,
   "metadata": {},
   "outputs": [],
   "source": [
    "listcompanyids2018 = []\n",
    "for key in edgedict2018:\n",
    "    listcompanyids2018.append(key)"
   ]
  },
  {
   "cell_type": "code",
   "execution_count": 9,
   "metadata": {},
   "outputs": [],
   "source": [
    "for key in listcompanyids2018:\n",
    "    if not edgedict2018[key]:\n",
    "        edgedict2018.pop(key)"
   ]
  },
  {
   "cell_type": "code",
   "execution_count": 10,
   "metadata": {},
   "outputs": [
    {
     "name": "stderr",
     "output_type": "stream",
     "text": [
      "100%|██████████| 19988/19988 [00:01<00:00, 19286.47it/s]\n"
     ]
    }
   ],
   "source": [
    "# 2019 edges from sequence\n",
    "edgedict2019 = {}\n",
    "for key in tqdm(dfcompdict2019):\n",
    "    templist = []\n",
    "    for i in range(len(dfcompdict2019[key])):\n",
    "        if i == len(dfcompdict2019[key])-1:\n",
    "            continue\n",
    "        else:\n",
    "            templist.append([dfcompdict2019[key][i],dfcompdict2019[key][i+1]])\n",
    "    edgedict2019[key] = templist"
   ]
  },
  {
   "cell_type": "code",
   "execution_count": 17,
   "metadata": {},
   "outputs": [],
   "source": [
    "listcompanyids2019 = []\n",
    "for key in edgedict2019:\n",
    "    listcompanyids2019.append(key)"
   ]
  },
  {
   "cell_type": "code",
   "execution_count": 12,
   "metadata": {},
   "outputs": [],
   "source": [
    "for key in listcompanyids2019:\n",
    "    if not edgedict2019[key]:\n",
    "        edgedict2019.pop(key)"
   ]
  },
  {
   "cell_type": "code",
   "execution_count": 13,
   "metadata": {},
   "outputs": [
    {
     "name": "stderr",
     "output_type": "stream",
     "text": [
      "100%|██████████| 21241/21241 [00:00<00:00, 23195.10it/s]\n"
     ]
    }
   ],
   "source": [
    "# 2020 edges from sequence\n",
    "edgedict2020 = {}\n",
    "for key in tqdm(dfcompdict2020):\n",
    "    templist = []\n",
    "    for i in range(len(dfcompdict2020[key])):\n",
    "        if i == len(dfcompdict2020[key])-1:\n",
    "            continue\n",
    "        else:\n",
    "            templist.append([dfcompdict2020[key][i],dfcompdict2020[key][i+1]])\n",
    "    edgedict2020[key] = templist"
   ]
  },
  {
   "cell_type": "code",
   "execution_count": 18,
   "metadata": {},
   "outputs": [],
   "source": [
    "listcompanyids2020 = []\n",
    "for key in edgedict2020:\n",
    "    listcompanyids2020.append(key)"
   ]
  },
  {
   "cell_type": "code",
   "execution_count": 15,
   "metadata": {},
   "outputs": [],
   "source": [
    "for key in listcompanyids2020:\n",
    "    if not edgedict2020[key]:\n",
    "        edgedict2020.pop(key)"
   ]
  },
  {
   "cell_type": "code",
   "execution_count": null,
   "metadata": {},
   "outputs": [],
   "source": []
  },
  {
   "cell_type": "code",
   "execution_count": 25,
   "metadata": {},
   "outputs": [],
   "source": [
    "adjmat2018 = {}\n",
    "eventlist2018 = {}"
   ]
  },
  {
   "cell_type": "code",
   "execution_count": 27,
   "metadata": {},
   "outputs": [
    {
     "name": "stderr",
     "output_type": "stream",
     "text": [
      "100%|██████████| 15112/15112 [00:50<00:00, 300.00it/s] \n"
     ]
    }
   ],
   "source": [
    "for key in tqdm(edgedict2018):\n",
    "    eventlist2018[key] = list(set(dfcompdict2018[key]))\n",
    "    tempadjdf = pd.DataFrame(0, index=eventlist2018[key], columns=eventlist2018[key])\n",
    "    for event1 in eventlist2018[key]:\n",
    "        for event2 in eventlist2018[key]:\n",
    "            templist = [event1, event2]\n",
    "            if templist in edgedict2018[key]:\n",
    "                tempadjdf.at[event1,event2] = 1\n",
    "    adjmat2018[key] = tempadjdf"
   ]
  },
  {
   "cell_type": "code",
   "execution_count": 34,
   "metadata": {},
   "outputs": [
    {
     "name": "stderr",
     "output_type": "stream",
     "text": [
      "100%|██████████| 16139/16139 [00:37<00:00, 430.96it/s] \n"
     ]
    }
   ],
   "source": [
    "adjmat2019 = {}\n",
    "eventlist2019 = {}\n",
    "\n",
    "for key in tqdm(edgedict2019):\n",
    "    eventlist2019[key] = list(set(dfcompdict2019[key]))\n",
    "    tempadjdf = pd.DataFrame(0, index=eventlist2019[key], columns=eventlist2019[key])\n",
    "    for event1 in eventlist2019[key]:\n",
    "        for event2 in eventlist2019[key]:\n",
    "            templist = [event1, event2]\n",
    "            if templist in edgedict2019[key]:\n",
    "                tempadjdf.at[event1,event2] = 1\n",
    "    adjmat2019[key] = tempadjdf"
   ]
  },
  {
   "cell_type": "code",
   "execution_count": 35,
   "metadata": {},
   "outputs": [
    {
     "name": "stderr",
     "output_type": "stream",
     "text": [
      "100%|██████████| 16915/16915 [00:40<00:00, 421.91it/s] \n"
     ]
    }
   ],
   "source": [
    "adjmat2020 = {}\n",
    "eventlist2020 = {}\n",
    "\n",
    "for key in tqdm(edgedict2020):\n",
    "    eventlist2020[key] = list(set(dfcompdict2020[key]))\n",
    "    tempadjdf = pd.DataFrame(0, index=eventlist2020[key], columns=eventlist2020[key])\n",
    "    for event1 in eventlist2020[key]:\n",
    "        for event2 in eventlist2020[key]:\n",
    "            templist = [event1, event2]\n",
    "            if templist in edgedict2020[key]:\n",
    "                tempadjdf.at[event1,event2] = 1\n",
    "    adjmat2020[key] = tempadjdf"
   ]
  },
  {
   "cell_type": "code",
   "execution_count": 36,
   "metadata": {},
   "outputs": [],
   "source": [
    "with open('edgedict2018.pickle', 'wb') as filehandle:\n",
    "    pickle.dump(edgedict2018, filehandle)\n",
    "with open('edgedict2019.pickle', 'wb') as filehandle:\n",
    "    pickle.dump(edgedict2019, filehandle)\n",
    "with open('edgedict2020.pickle', 'wb') as filehandle:\n",
    "    pickle.dump(edgedict2020, filehandle)"
   ]
  },
  {
   "cell_type": "code",
   "execution_count": 37,
   "metadata": {},
   "outputs": [],
   "source": [
    "with open('eventlist2018.pickle', 'wb') as filehandle:\n",
    "    pickle.dump(eventlist2018, filehandle)\n",
    "with open('eventlist2019.pickle', 'wb') as filehandle:\n",
    "    pickle.dump(eventlist2019, filehandle)\n",
    "with open('eventlist2020.pickle', 'wb') as filehandle:\n",
    "    pickle.dump(eventlist2020, filehandle)"
   ]
  },
  {
   "cell_type": "code",
   "execution_count": 38,
   "metadata": {},
   "outputs": [],
   "source": [
    "with open('adjmat2018.pickle', 'wb') as filehandle:\n",
    "    pickle.dump(adjmat2018, filehandle)\n",
    "with open('adjmat2019.pickle', 'wb') as filehandle:\n",
    "    pickle.dump(adjmat2019, filehandle)\n",
    "with open('adjmat2020.pickle', 'wb') as filehandle:\n",
    "    pickle.dump(adjmat2020, filehandle)"
   ]
  },
  {
   "cell_type": "code",
   "execution_count": null,
   "metadata": {},
   "outputs": [],
   "source": [
    "adjmatavg2018 = "
   ]
  }
 ],
 "metadata": {
  "kernelspec": {
   "display_name": "Python 3",
   "language": "python",
   "name": "python3"
  },
  "language_info": {
   "codemirror_mode": {
    "name": "ipython",
    "version": 3
   },
   "file_extension": ".py",
   "mimetype": "text/x-python",
   "name": "python",
   "nbconvert_exporter": "python",
   "pygments_lexer": "ipython3",
   "version": "3.6.10"
  }
 },
 "nbformat": 4,
 "nbformat_minor": 4
}
